{
 "cells": [
  {
   "cell_type": "markdown",
   "metadata": {},
   "source": [
    "# Packages"
   ]
  },
  {
   "cell_type": "code",
   "execution_count": 22,
   "metadata": {},
   "outputs": [],
   "source": [
    "import geopandas as gpd\n",
    "import os\n"
   ]
  },
  {
   "cell_type": "code",
   "execution_count": null,
   "metadata": {},
   "outputs": [],
   "source": [
    "\n",
    "# Define file path\n",
    "file_path = r\"G:\\Shared drives\\Wellcome Trust Project Data\\0_source_data\\GiGL land use data\\GiGL_OpenSpace_Sites_All_region\\GiGL_OpenSpace_Sites_All_region.shp\"\n",
    "\n",
    "# Read the spatial data\n",
    "d = gpd.read_file(file_path)\n"
   ]
  },
  {
   "cell_type": "markdown",
   "metadata": {},
   "source": [
    "## 7 park categories "
   ]
  },
  {
   "cell_type": "code",
   "execution_count": 30,
   "metadata": {},
   "outputs": [
    {
     "name": "stdout",
     "output_type": "stream",
     "text": [
      "Index(['SiteName', 'SiteID', 'PPG17', 'PrimaryUse', 'OtherUses', 'Borough',\n",
      "       'AreaHa', 'Easting', 'Northing', 'Qualifier', 'GridRef', 'Postcode',\n",
      "       'OwnerType', 'Owner', 'Manager', 'Access', 'AccessRest', 'AccessDets',\n",
      "       'OpenTimes', 'UploadOnli', 'GoParksSit', 'GoParksAdd', 'GoParksCom',\n",
      "       'SiteDesc', 'Website', 'FriendsGrp', 'SurveyName', 'SurveyDate',\n",
      "       'SurveyRef', 'ModDate', 'ModUser', 'ModComm', 'OtherNames', 'Ward',\n",
      "       'Address', 'OwnerURL', 'SiteHistor', 'LSMDate', 'LSMParcels',\n",
      "       'VeriStatus', 'VeriDate', 'VeriBy', 'StatDes', 'NonStatDes',\n",
      "       'LandscDes', 'ByelawDes', 'SPA', 'SAC', 'Ramsar', 'NNR', 'SSSI', 'LNR',\n",
      "       'SINC', 'COS', 'POS', 'ConsArea', 'EnglishHer', 'GreenBelt',\n",
      "       'GreenChain', 'GreenCor', 'GreenFlag', 'LonCommon', 'LonSquare', 'MOL',\n",
      "       'POPS', 'POSGrade', 'Features', 'Licence', 'geometry'],\n",
      "      dtype='object')\n",
      "42\n",
      "294\n",
      "Index(['SiteName', 'SiteID', 'PPG17', 'PrimaryUse', 'OtherUses', 'Borough',\n",
      "       'AreaHa', 'Access', 'ConsArea', 'EnglishHer', 'GreenBelt', 'GreenChain',\n",
      "       'GreenCor', 'GreenFlag', 'LonCommon', 'LonSquare', 'MOL', 'POPS',\n",
      "       'POSGrade', 'geometry'],\n",
      "      dtype='object')\n",
      "\n",
      "\n",
      "['Adventure playground', 'Agriculture', 'Allotments', 'Amenity green space', 'Canal', 'Cemetery/churchyard', 'City farm', 'Civic/market square', 'Common', 'Community garden', 'Country park', 'Disused quarry/gravel pit', 'Disused railway trackbed', 'Educational', 'Equestrian centre', 'Formal garden', 'Golf course', 'Hospital', 'Land reclamation', 'Landscaping around premises', 'Nature reserve', 'Nursery/horticulture', 'Other', 'Other hard surfaced areas', 'Other recreational', 'Park', 'Play space', 'Playing fields', 'Private woodland', 'Public woodland', 'Railway cutting', 'Railway embankment', 'Recreation ground', 'Reservoir', 'River', 'Road island/verge', 'Sewage/water works', 'Tramway', 'Vacant land', 'Village green', 'Walking/cycling route', 'Youth area']\n"
     ]
    }
   ],
   "source": [
    "\n",
    "# Display column names\n",
    "print(d.columns)\n",
    "\n",
    "# Display unique values for specific columns\n",
    "# print(sorted(d[\"PrimaryUse\"].dropna().unique()))\n",
    "print(len(d[\"PrimaryUse\"].dropna().unique()))\n",
    "\n",
    "# print(sorted(d[\"OtherUses\"].dropna().unique()))\n",
    "print(len(d[\"OtherUses\"].dropna().unique()))\n",
    "\n",
    "\n",
    "# Define keywords\n",
    "keywords = ['Park', 'Garden', 'Open Space']\n",
    "\n",
    "df = d\n",
    "\n",
    "col_remove = [\n",
    "    'Easting', 'Northing', 'Qualifier', 'GridRef', 'Postcode',\n",
    "    'OwnerType', 'Owner', 'Manager', 'AccessRest', 'AccessDets',\n",
    "    'OpenTimes', 'UploadOnli', 'GoParksSit', 'GoParksAdd', 'GoParksCom',\n",
    "    'SiteDesc', 'Website', 'FriendsGrp', 'SurveyName', 'SurveyDate',\n",
    "    'SurveyRef', 'ModDate', 'ModUser', 'ModComm', 'OtherNames', 'Ward',\n",
    "    'Address', 'OwnerURL', 'SiteHistor', 'LSMDate', 'LSMParcels',\n",
    "    'VeriStatus', 'VeriDate', 'VeriBy', 'StatDes', 'NonStatDes',\n",
    "    'LandscDes', 'ByelawDes', 'SPA', 'SAC', 'Ramsar', 'NNR', 'SSSI', 'LNR',\n",
    "    'SINC', 'COS', 'POS', 'Features', 'Licence']\n",
    "\n",
    "df = df.drop(columns=col_remove)\n",
    "\n",
    "print(df.columns)\n",
    "\n",
    "# Use `.str.contains()` to find rows where `SiteName` contains any keyword & `PrimaryUse` is blank\n",
    "mask = df['PrimaryUse'].eq('') & df['SiteName'].str.contains('|'.join(keywords), case=False, na=False)\n",
    "\n",
    "# Fill missing values in `PrimaryUse` with \"Parks\"\n",
    "df.loc[mask, 'PrimaryUse'] = 'Parks'\n",
    "\n",
    "# # Display updated DataFrame\n",
    "# print(df.head())\n",
    "\n",
    "\n",
    "print('\\n')\n",
    "\n",
    "\n",
    "# Display unique values for specific columns\n",
    "ls = sorted(df[\"PrimaryUse\"].dropna().unique())\n",
    "print(ls)\n",
    "\n",
    "\n"
   ]
  },
  {
   "cell_type": "markdown",
   "metadata": {},
   "source": [
    "#### classification function "
   ]
  },
  {
   "cell_type": "code",
   "execution_count": 41,
   "metadata": {},
   "outputs": [
    {
     "name": "stdout",
     "output_type": "stream",
     "text": [
      "                       SiteName      SiteID               PPG17  \\\n",
      "0        Upminster Sewage Works  OS_Hv_0541               Other   \n",
      "1          Fields N of Fen Lane  OS_Hv_0140  Other Urban Fringe   \n",
      "2        Top Meadow Corner Farm  OS_Hv_0842  Other Urban Fringe   \n",
      "3  Field adjacent to The Warren  OS_Hv_0677               Other   \n",
      "4                 Fairplay Farm  OS_Hv_0130  Other Urban Fringe   \n",
      "\n",
      "           PrimaryUse OtherUses   Borough    AreaHa      Access ConsArea  \\\n",
      "0  Sewage/water works      None  Havering    8.2868        None       No   \n",
      "1         Agriculture      None  Havering  169.0764  Restricted       No   \n",
      "2         Agriculture      None  Havering    8.7391        None       No   \n",
      "3         Vacant land      None  Havering    0.3646    De facto       No   \n",
      "4         Agriculture      None  Havering   81.9128        None       No   \n",
      "\n",
      "  EnglishHer  ... GreenFlag LonCommon LonSquare MOL POPS POSGrade  \\\n",
      "0         No  ...        No        No        No  No   No     None   \n",
      "1         No  ...        No        No        No  No   No     None   \n",
      "2         No  ...        No        No        No  No   No     None   \n",
      "3         No  ...        No        No        No  No   No     None   \n",
      "4         No  ...        No        No        No  No   No     None   \n",
      "\n",
      "                                            geometry     TextClass  \\\n",
      "0  POLYGON ((560656.244 186624.499, 560710.711 18...  Unclassified   \n",
      "1  MULTIPOLYGON (((559415.000 185670.902, 559415....  Unclassified   \n",
      "2  POLYGON ((560613.007 185259.229, 560632.614 18...  Unclassified   \n",
      "3  POLYGON ((559528.798 185133.795, 559567.797 18...  Unclassified   \n",
      "4  POLYGON ((559296.403 186030.998, 559358.801 18...  Unclassified   \n",
      "\n",
      "                       AreaClass    FinalClass  \n",
      "0  4 Local Parks and Open Spaces  Unclassified  \n",
      "1           2 Metropolitan Parks  Unclassified  \n",
      "2  4 Local Parks and Open Spaces  Unclassified  \n",
      "3                 6 Pocket Parks  Unclassified  \n",
      "4           2 Metropolitan Parks  Unclassified  \n",
      "\n",
      "[5 rows x 23 columns]\n",
      "Filtered shapefile saved at: G:/Shared drives/Wellcome Trust Project Data/1_preprocess/UrbanCoolingModel/GiGL_OpenSpace_7class.shp\n"
     ]
    }
   ],
   "source": [
    "## load function \n",
    "code_dir = r'D:\\natcap\\heat-health\\scripts'\n",
    "code_path = os.path.join(code_dir, \"function_park_classification.py\")\n",
    "\n",
    "# %run viz_pd.py\n",
    "with open(code_path) as f:\n",
    "    exec(f.read())\n",
    "\n",
    "\n",
    "# --- Apply the functions ---\n",
    "df[\"TextClass\"] = df.apply(classify_by_name, axis=1)     # Column B\n",
    "df[\"AreaClass\"] = df.apply(classify_by_area, axis=1)         # Column D\n",
    "df[\"FinalClass\"] = df.apply(final_classification, axis=1)      # Column E\n",
    "\n",
    "print(df.head())\n",
    "\n",
    "output_path = \"G:/Shared drives/Wellcome Trust Project Data/1_preprocess/UrbanCoolingModel/GiGL_OpenSpace_7class.shp\"\n",
    "\n",
    "# Save filtered data as a new shapefile\n",
    "df.to_file(output_path, driver=\"ESRI Shapefile\")\n",
    "\n",
    "print(f\"Filtered shapefile saved at: {output_path}\")"
   ]
  },
  {
   "cell_type": "markdown",
   "metadata": {},
   "source": [
    "# LC scenarios "
   ]
  },
  {
   "cell_type": "markdown",
   "metadata": {},
   "source": [
    "### opportunity land cover"
   ]
  },
  {
   "cell_type": "code",
   "execution_count": null,
   "metadata": {},
   "outputs": [],
   "source": [
    "\n",
    "\n",
    "print(sorted(d[\"POSGrade\"].dropna().unique()))\n",
    "\n",
    "# Define categories to filter\n",
    "PrimaryUse_select = [\n",
    "    \"Disused quarry/gravel pit\", \"Disused railway trackbed\", \"Land reclamation\",\n",
    "    \"Other hard surfaced areas\", \"Other recreational\", \"Road island/verge\",\n",
    "    \"Vacant land\"\n",
    "]\n",
    "\n",
    "# Filter data based on the selected categories\n",
    "d_filtered = d[d[\"PrimaryUse\"].isin(PrimaryUse_select)]\n",
    "\n",
    "# # Display the filtered data\n",
    "# print(d_filtered.head())\n",
    "\n"
   ]
  },
  {
   "cell_type": "markdown",
   "metadata": {},
   "source": [
    "#### Save filtered shp"
   ]
  },
  {
   "cell_type": "code",
   "execution_count": null,
   "metadata": {},
   "outputs": [],
   "source": [
    "\n",
    "output_path = \"G:/Shared drives/Wellcome Trust Project Data/1_preprocess/UrbanCoolingModel/GiGL_OpenSpace_Sites_opportunityLC.shp\"\n",
    "\n",
    "# Save filtered data as a new shapefile\n",
    "d_filtered.to_file(output_path, driver=\"ESRI Shapefile\")\n",
    "\n",
    "print(f\"Filtered shapefile saved at: {output_path}\")\n"
   ]
  },
  {
   "cell_type": "markdown",
   "metadata": {},
   "source": [
    "## Create LC scenarios "
   ]
  },
  {
   "cell_type": "code",
   "execution_count": 9,
   "metadata": {},
   "outputs": [
    {
     "name": "stdout",
     "output_type": "stream",
     "text": [
      "Updated land cover raster saved at: G:\\Shared drives\\Wellcome Trust Project Data\\1_preprocess\\UrbanCoolingModel\\ESA_WorldCover_10m_2021_update.tif\n"
     ]
    }
   ],
   "source": [
    "import rasterio\n",
    "import geopandas as gpd\n",
    "import numpy as np\n",
    "from rasterio.mask import mask\n",
    "from rasterio.features import rasterize\n",
    "\n",
    "# --- File Paths ---\n",
    "landcover_raster_path = r\"G:\\Shared drives\\Wellcome Trust Project Data\\1_preprocess\\UrbanCoolingModel\\ESA_WorldCover_10m_2021_v200_Mosaic_Mask_proj.tif\"\n",
    "filtered_shapefile_path = \"G:/Shared drives/Wellcome Trust Project Data/1_preprocess/UrbanCoolingModel/GiGL_OpenSpace_Sites_opportunityLC.shp\"\n",
    "output_raster_path = r\"G:\\Shared drives\\Wellcome Trust Project Data\\1_preprocess\\UrbanCoolingModel\\ESA_WorldCover_10m_2021_update.tif\"\n",
    "\n",
    "# --- Step 1: Load the Raster ---\n",
    "with rasterio.open(landcover_raster_path) as src:\n",
    "    landcover_data = src.read(1)  # Read the first band\n",
    "    landcover_meta = src.meta.copy()  # Copy metadata\n",
    "    landcover_crs = src.crs  # Get raster CRS\n",
    "\n",
    "# --- Step 2: Load the Shapefile ---\n",
    "d_filtered = gpd.read_file(filtered_shapefile_path)\n",
    "\n",
    "# --- Step 3: Reproject Shapefile if Needed ---\n",
    "if d_filtered.crs != landcover_crs:\n",
    "    d_filtered = d_filtered.to_crs(landcover_crs)\n",
    "\n",
    "# --- Step 4: Rasterize the Shapefile ---\n",
    "# Convert geometry into rasterized mask\n",
    "shape_mask = rasterize(\n",
    "    [(geom, 1) for geom in d_filtered.geometry],  # Assign value 1 for overlapping areas\n",
    "    out_shape=landcover_data.shape,\n",
    "    transform=landcover_meta[\"transform\"],\n",
    "    fill=0,  # Default value for non-overlapping areas\n",
    "    dtype=np.uint8\n",
    ")\n",
    "\n",
    "# --- Step 5: Apply the Mask to Update Land Cover Values ---\n",
    "tree_cover_code = 1  # ESA WorldCover Code for \"Tree cover\"\n",
    "landcover_data[shape_mask == 1] = tree_cover_code  # Change only where shape_mask == 1\n",
    "\n",
    "# --- Step 6: Save the Updated Raster ---\n",
    "landcover_meta.update(dtype=rasterio.uint8, compress=\"lzw\")  # Ensure correct datatype\n",
    "\n",
    "with rasterio.open(output_raster_path, \"w\", **landcover_meta) as dst:\n",
    "    dst.write(landcover_data.astype(rasterio.uint8), 1)\n",
    "\n",
    "print(f\"Updated land cover raster saved at: {output_raster_path}\")\n"
   ]
  }
 ],
 "metadata": {
  "kernelspec": {
   "display_name": "base",
   "language": "python",
   "name": "python3"
  },
  "language_info": {
   "codemirror_mode": {
    "name": "ipython",
    "version": 3
   },
   "file_extension": ".py",
   "mimetype": "text/x-python",
   "name": "python",
   "nbconvert_exporter": "python",
   "pygments_lexer": "ipython3",
   "version": "3.11.5"
  }
 },
 "nbformat": 4,
 "nbformat_minor": 2
}
