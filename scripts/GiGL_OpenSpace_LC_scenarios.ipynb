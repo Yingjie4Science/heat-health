{
 "cells": [
  {
   "cell_type": "code",
   "execution_count": 2,
   "metadata": {},
   "outputs": [],
   "source": [
    "import geopandas as gpd\n",
    "\n",
    "# Define file path\n",
    "file_path = r\"G:\\Shared drives\\Wellcome Trust Project Data\\0_source_data\\GiGL land use data\\GiGL_OpenSpace_Sites_All_region\\GiGL_OpenSpace_Sites_All_region.shp\"\n",
    "\n",
    "# Read the spatial data\n",
    "d = gpd.read_file(file_path)\n"
   ]
  },
  {
   "cell_type": "markdown",
   "metadata": {},
   "source": [
    "### parks"
   ]
  },
  {
   "cell_type": "code",
   "execution_count": 3,
   "metadata": {},
   "outputs": [
    {
     "name": "stdout",
     "output_type": "stream",
     "text": [
      "Index(['SiteName', 'SiteID', 'PPG17', 'PrimaryUse', 'OtherUses', 'Borough',\n",
      "       'AreaHa', 'Easting', 'Northing', 'Qualifier', 'GridRef', 'Postcode',\n",
      "       'OwnerType', 'Owner', 'Manager', 'Access', 'AccessRest', 'AccessDets',\n",
      "       'OpenTimes', 'UploadOnli', 'GoParksSit', 'GoParksAdd', 'GoParksCom',\n",
      "       'SiteDesc', 'Website', 'FriendsGrp', 'SurveyName', 'SurveyDate',\n",
      "       'SurveyRef', 'ModDate', 'ModUser', 'ModComm', 'OtherNames', 'Ward',\n",
      "       'Address', 'OwnerURL', 'SiteHistor', 'LSMDate', 'LSMParcels',\n",
      "       'VeriStatus', 'VeriDate', 'VeriBy', 'StatDes', 'NonStatDes',\n",
      "       'LandscDes', 'ByelawDes', 'SPA', 'SAC', 'Ramsar', 'NNR', 'SSSI', 'LNR',\n",
      "       'SINC', 'COS', 'POS', 'ConsArea', 'EnglishHer', 'GreenBelt',\n",
      "       'GreenChain', 'GreenCor', 'GreenFlag', 'LonCommon', 'LonSquare', 'MOL',\n",
      "       'POPS', 'POSGrade', 'Features', 'Licence', 'geometry'],\n",
      "      dtype='object')\n",
      "['Adventure playground', 'Agriculture', 'Allotments', 'Amenity green space', 'Canal', 'Cemetery/churchyard', 'City farm', 'Civic/market square', 'Common', 'Community garden', 'Country park', 'Disused quarry/gravel pit', 'Disused railway trackbed', 'Educational', 'Equestrian centre', 'Formal garden', 'Golf course', 'Hospital', 'Land reclamation', 'Landscaping around premises', 'Nature reserve', 'Nursery/horticulture', 'Other', 'Other hard surfaced areas', 'Other recreational', 'Park', 'Play space', 'Playing fields', 'Private woodland', 'Public woodland', 'Railway cutting', 'Railway embankment', 'Recreation ground', 'Reservoir', 'River', 'Road island/verge', 'Sewage/water works', 'Tramway', 'Vacant land', 'Village green', 'Walking/cycling route', 'Youth area']\n",
      "42\n",
      "['Adventure playground', 'Adventure playground; Allotments; Nature reserve; Park', 'Adventure playground; Land reclamation; Other', 'Adventure playground; Landscaping around premises', 'Adventure playground; Park; Play space', 'Adventure playground; Play space', 'Adventure playground; Recreation ground', 'Agriculture', 'Agriculture; Allotments', 'Agriculture; Canal; Disused quarry/gravel pit; Private woodland', 'Agriculture; Canal; Golf course; Private woodland; Railway embankment; River', 'Agriculture; Common', 'Agriculture; Common; Disused quarry/gravel pit; Park; River', 'Agriculture; Common; Educational; Park; Playing fields; River', 'Agriculture; Common; Nature reserve; Playing fields', 'Agriculture; Common; Private woodland; River', 'Agriculture; Common; Private woodland; Vacant land', 'Agriculture; Common; River', 'Agriculture; Common; Vacant land', 'Agriculture; Disused quarry/gravel pit', 'Agriculture; Disused quarry/gravel pit; Golf course; Nature reserve; Private woodland; River', 'Agriculture; Disused quarry/gravel pit; Other recreational; Vacant land', 'Agriculture; Disused quarry/gravel pit; Other; River', 'Agriculture; Educational; Reservoir', 'Agriculture; Educational; Vacant land', 'Agriculture; Equestrian centre', 'Agriculture; Equestrian centre; Land reclamation; Vacant land', 'Agriculture; Equestrian centre; Playing fields', 'Agriculture; Equestrian centre; Recreation ground; River', 'Agriculture; Formal garden', 'Agriculture; Formal garden; Other; Private woodland; Walking/cycling route', 'Agriculture; Formal garden; Private woodland', 'Agriculture; Golf course', 'Agriculture; Golf course; Other; Playing fields', 'Agriculture; Land reclamation', 'Agriculture; Landscaping around premises', 'Agriculture; Landscaping around premises; Other; Park; Village green', 'Agriculture; Nature reserve', 'Agriculture; Nature reserve; Other recreational; Private woodland; Railway embankment', 'Agriculture; Nature reserve; Other; Railway cutting', 'Agriculture; Nature reserve; Other; River', 'Agriculture; Nature reserve; Other; River; Vacant land', 'Agriculture; Nature reserve; River; Vacant land', 'Agriculture; Other', 'Agriculture; Other recreational', 'Agriculture; Other; Other recreational; Private woodland', 'Agriculture; Other; Private woodland', 'Agriculture; Other; Recreation ground', 'Agriculture; Other; River; Vacant land', 'Agriculture; Private woodland', 'Agriculture; Railway cutting', 'Agriculture; Railway cutting; Road island/verge', 'Agriculture; Recreation ground', 'Agriculture; River', 'Agriculture; River; Sewage/water works', 'Agriculture; Vacant land', 'Allotments', 'Allotments; Cemetery/churchyard; Recreation ground', 'Allotments; City farm; Playing fields', 'Allotments; Educational; Other; Park; Playing fields', 'Allotments; Nature reserve; Railway cutting', 'Allotments; Other; Railway cutting', 'Allotments; Other; Vacant land', 'Allotments; Play space', 'Allotments; Playing fields; River', 'Allotments; Railway cutting', 'Allotments; River', 'Amenity green space', 'Amenity green space; Landscaping around premises', 'Amenity green space; Play space', 'Amenity green space; Road island/verge', 'Canal', 'Canal; Common', 'Canal; Disused quarry/gravel pit', 'Canal; Disused quarry/gravel pit; Equestrian centre; Land reclamation', 'Canal; Landscaping around premises; Nature reserve; Nursery/horticulture', 'Canal; Other', 'Canal; Other recreational', 'Canal; Other; Recreation ground; Reservoir; River', 'Canal; Park', 'Canal; Playing fields', 'Cemetery/churchyard', 'Cemetery/churchyard; Civic/market square; Landscaping around premises', 'Cemetery/churchyard; Community garden; Playing fields; Recreation ground', 'Cemetery/churchyard; Golf course', 'Cemetery/churchyard; Landscaping around premises', 'Cemetery/churchyard; Park', 'Cemetery/churchyard; Play space; Recreation ground', 'Cemetery/churchyard; Playing fields; Recreation ground', 'Cemetery/churchyard; Recreation ground', 'City farm', 'City farm; Landscaping around premises', 'City farm; Private woodland', 'Civic/market square', 'Civic/market square; Other recreational; Play space', 'Common', 'Common; Disused railway trackbed; Nature reserve; Railway cutting', 'Common; Educational; Road island/verge', 'Common; Equestrian centre; Park; Private woodland', 'Common; Equestrian centre; River', 'Common; Golf course; Landscaping around premises; Nature reserve; Playing fields', 'Common; Landscaping around premises; Play space; Private woodland', 'Common; Nature reserve', 'Common; Other', 'Common; Park', 'Common; Park; Recreation ground', 'Common; Park; River', 'Common; Park; Vacant land', 'Common; Park; Walking/cycling route', 'Common; Play space', 'Common; Play space; Road island/verge', 'Common; Play space; Vacant land', 'Common; Playing fields', 'Common; Playing fields; Vacant land', 'Common; Private woodland', 'Common; Recreation ground', 'Common; Recreation ground; River', 'Common; River', 'Common; River; Road island/verge', 'Common; Road island/verge', 'Common; Vacant land', 'Common; Walking/cycling route', 'Community garden', 'Community garden; Other recreational', 'Country park', 'Disused quarry/gravel pit', 'Disused quarry/gravel pit; Nature reserve; Other; Other hard surfaced areas; Park', 'Disused quarry/gravel pit; Other recreational', 'Disused quarry/gravel pit; Other; Private woodland', 'Disused quarry/gravel pit; Private woodland; River', 'Disused railway trackbed', 'Disused railway trackbed; Landscaping around premises; Railway embankment', 'Disused railway trackbed; Nature reserve', 'Disused railway trackbed; Park', 'Disused railway trackbed; Railway cutting', 'Disused railway trackbed; Railway cutting; Railway embankment', 'Educational', 'Educational; Equestrian centre; Other', 'Educational; Equestrian centre; Playing fields', 'Educational; Formal garden; Landscaping around premises; Playing fields', 'Educational; Golf course; Landscaping around premises; Other; Park', 'Educational; Landscaping around premises', 'Educational; Landscaping around premises; Park; Playing fields', 'Educational; Nature reserve; Playing fields', 'Educational; Other recreational', 'Educational; Other; Playing fields; Private woodland; Recreation ground', 'Educational; Park', 'Educational; Play space', 'Educational; Playing fields', 'Educational; Recreation ground', 'Educational; River', 'Educational; Road island/verge', 'Educational; Vacant land', 'Equestrian centre', 'Equestrian centre; Golf course; Landscaping around premises; Vacant land', 'Equestrian centre; Landscaping around premises; Private woodland', 'Equestrian centre; Landscaping around premises; Road island/verge; Vacant land', 'Equestrian centre; Nature reserve', 'Equestrian centre; Nature reserve; Private woodland; Vacant land', 'Equestrian centre; Playing fields', 'Equestrian centre; Reservoir', 'Equestrian centre; River', 'Equestrian centre; Vacant land', 'Formal garden', 'Formal garden; Landscaping around premises', 'Formal garden; Landscaping around premises; Nature reserve; Nursery/horticulture; Other', 'Formal garden; Park', 'Formal garden; Play space', 'Golf course', 'Golf course; Other recreational; Playing fields; Road island/verge', 'Golf course; Play space', 'Golf course; Playing fields; Railway cutting', 'Golf course; Recreation ground', 'Hospital', 'Hospital; Landscaping around premises', 'Land reclamation', 'Land reclamation; Landscaping around premises', 'Land reclamation; Other', 'Land reclamation; Private woodland', 'Land reclamation; Vacant land', 'Landscaping around premises', 'Landscaping around premises; Other', 'Landscaping around premises; Other hard surfaced areas', 'Landscaping around premises; Other recreational', 'Landscaping around premises; Park', 'Landscaping around premises; Park; River', 'Landscaping around premises; Play space', 'Landscaping around premises; Playing fields', 'Landscaping around premises; Playing fields; Reservoir', 'Landscaping around premises; Private woodland', 'Landscaping around premises; Public woodland', 'Landscaping around premises; Railway cutting', 'Landscaping around premises; Road island/verge', 'Landscaping around premises; Road island/verge; Vacant land', 'Landscaping around premises; Vacant land', 'Nature reserve', 'Nature reserve; Other', 'Nature reserve; Park', 'Nature reserve; Park; Playing fields', 'Nature reserve; Park; Vacant land', 'Nature reserve; Play space', 'Nature reserve; Play space; Recreation ground', 'Nature reserve; Playing fields', 'Nature reserve; Private woodland', 'Nature reserve; Public woodland', 'Nature reserve; Railway cutting', 'Nature reserve; Railway embankment', 'Nature reserve; Recreation ground', 'Nature reserve; River', 'Nature reserve; River; Vacant land', 'Nature reserve; Vacant land', 'Nature reserve; Walking/cycling route', 'Nursery/horticulture', 'Nursery/horticulture; Other; Playing fields; Recreation ground', 'Other', 'Other hard surfaced areas', 'Other hard surfaced areas; Park', 'Other recreational', 'Other recreational; Park', 'Other recreational; Park; Play space', 'Other recreational; Park; River', 'Other recreational; Play space', 'Other recreational; Playing fields', 'Other recreational; Private woodland', 'Other recreational; Reservoir', 'Other recreational; Vacant land', 'Other; Other recreational; Road island/verge; Vacant land', 'Other; Park', 'Other; Play space; River; Vacant land', 'Other; Playing fields; Railway embankment', 'Other; Private woodland', 'Other; Railway cutting', 'Other; Walking/cycling route', 'Park', 'Park; Play space', 'Park; Play space; Recreation ground', 'Park; Playing fields', 'Park; Playing fields; Recreation ground', 'Park; Public woodland', 'Park; Railway cutting', 'Park; Railway embankment', 'Park; River', 'Park; Road island/verge', 'Park; Vacant land', 'Park; Vacant land; Walking/cycling route', 'Park; Walking/cycling route', 'Play space', 'Play space; Playing fields', 'Play space; Playing fields; Railway cutting', 'Play space; Playing fields; Youth area', 'Play space; Public woodland', 'Play space; Recreation ground', 'Play space; River', 'Playing fields', 'Playing fields; Public woodland', 'Playing fields; Recreation ground', 'Playing fields; River', 'Playing fields; Vacant land', 'Playing fields; Walking/cycling route', 'Private woodland', 'Private woodland; Recreation ground', 'Private woodland; Reservoir', 'Private woodland; River', 'Private woodland; Road island/verge', 'Private woodland; Vacant land', 'Private woodland; Walking/cycling route', 'Public woodland', 'Public woodland; Recreation ground', 'Public woodland; Road island/verge', 'Public woodland; Vacant land', 'Public woodland; Walking/cycling route', 'Railway cutting', 'Railway embankment', 'Railway embankment; Vacant land', 'Recreation ground', 'Recreation ground; River', 'Recreation ground; Road island/verge', 'Recreation ground; Vacant land', 'Reservoir', 'Reservoir; River', 'River', 'River; Road island/verge', 'River; Road island/verge; Vacant land', 'River; Vacant land', 'River; Walking/cycling route', 'Road island/verge', 'Road island/verge; Vacant land', 'Sewage/water works', 'Sewage/water works; Vacant land', 'Vacant land', 'Vacant land; Walking/cycling route', 'Village green', 'Walking/cycling route', 'Youth area']\n",
      "294\n",
      "                       SiteName      SiteID               PPG17  \\\n",
      "0        Upminster Sewage Works  OS_Hv_0541               Other   \n",
      "1          Fields N of Fen Lane  OS_Hv_0140  Other Urban Fringe   \n",
      "2        Top Meadow Corner Farm  OS_Hv_0842  Other Urban Fringe   \n",
      "3  Field adjacent to The Warren  OS_Hv_0677               Other   \n",
      "4                 Fairplay Farm  OS_Hv_0130  Other Urban Fringe   \n",
      "\n",
      "           PrimaryUse OtherUses   Borough    AreaHa      Access ConsArea  \\\n",
      "0  Sewage/water works      None  Havering    8.2868        None       No   \n",
      "1         Agriculture      None  Havering  169.0764  Restricted       No   \n",
      "2         Agriculture      None  Havering    8.7391        None       No   \n",
      "3         Vacant land      None  Havering    0.3646    De facto       No   \n",
      "4         Agriculture      None  Havering   81.9128        None       No   \n",
      "\n",
      "  EnglishHer GreenBelt GreenChain GreenCor GreenFlag LonCommon LonSquare MOL  \\\n",
      "0         No        No         No       No        No        No        No  No   \n",
      "1         No      Part         No       No        No        No        No  No   \n",
      "2         No        No         No       No        No        No        No  No   \n",
      "3         No        No         No       No        No        No        No  No   \n",
      "4         No      Part         No       No        No        No        No  No   \n",
      "\n",
      "  POPS POSGrade                                           geometry  \n",
      "0   No     None  POLYGON ((560656.244 186624.499, 560710.711 18...  \n",
      "1   No     None  MULTIPOLYGON (((559415.000 185670.902, 559415....  \n",
      "2   No     None  POLYGON ((560613.007 185259.229, 560632.614 18...  \n",
      "3   No     None  POLYGON ((559528.798 185133.795, 559567.797 18...  \n",
      "4   No     None  POLYGON ((559296.403 186030.998, 559358.801 18...  \n"
     ]
    }
   ],
   "source": [
    "\n",
    "# Display column names\n",
    "print(d.columns)\n",
    "\n",
    "# Display unique values for specific columns\n",
    "print(sorted(d[\"PrimaryUse\"].dropna().unique()))\n",
    "print(len(d[\"PrimaryUse\"].dropna().unique()))\n",
    "\n",
    "print(sorted(d[\"OtherUses\"].dropna().unique()))\n",
    "print(len(d[\"OtherUses\"].dropna().unique()))\n",
    "\n",
    "\n",
    "# Define keywords\n",
    "keywords = ['Park', 'Garden', 'Open Space']\n",
    "\n",
    "df = d\n",
    "\n",
    "col_remove = [\n",
    "    'Easting', 'Northing', 'Qualifier', 'GridRef', 'Postcode',\n",
    "    'OwnerType', 'Owner', 'Manager', 'AccessRest', 'AccessDets',\n",
    "    'OpenTimes', 'UploadOnli', 'GoParksSit', 'GoParksAdd', 'GoParksCom',\n",
    "    'SiteDesc', 'Website', 'FriendsGrp', 'SurveyName', 'SurveyDate',\n",
    "    'SurveyRef', 'ModDate', 'ModUser', 'ModComm', 'OtherNames', 'Ward',\n",
    "    'Address', 'OwnerURL', 'SiteHistor', 'LSMDate', 'LSMParcels',\n",
    "    'VeriStatus', 'VeriDate', 'VeriBy', 'StatDes', 'NonStatDes',\n",
    "    'LandscDes', 'ByelawDes', 'SPA', 'SAC', 'Ramsar', 'NNR', 'SSSI', 'LNR',\n",
    "    'SINC', 'COS', 'POS', 'Features', 'Licence']\n",
    "\n",
    "df = df.drop(columns=col_remove)\n",
    "\n",
    "\n",
    "# Use `.str.contains()` to find rows where `SiteName` contains any keyword & `PrimaryUse` is blank\n",
    "mask = df['PrimaryUse'].eq('') & df['SiteName'].str.contains('|'.join(keywords), case=False, na=False)\n",
    "\n",
    "# Fill missing values in `PrimaryUse` with \"Parks\"\n",
    "df.loc[mask, 'PrimaryUse'] = 'Parks'\n",
    "\n",
    "# Display updated DataFrame\n",
    "print(df.head())"
   ]
  },
  {
   "cell_type": "markdown",
   "metadata": {},
   "source": [
    "### opportunity land cover"
   ]
  },
  {
   "cell_type": "code",
   "execution_count": null,
   "metadata": {},
   "outputs": [
    {
     "name": "stdout",
     "output_type": "stream",
     "text": [
      "Index(['SiteName', 'SiteID', 'PPG17', 'PrimaryUse', 'OtherUses', 'Borough',\n",
      "       'AreaHa', 'Easting', 'Northing', 'Qualifier', 'GridRef', 'Postcode',\n",
      "       'OwnerType', 'Owner', 'Manager', 'Access', 'AccessRest', 'AccessDets',\n",
      "       'OpenTimes', 'UploadOnli', 'GoParksSit', 'GoParksAdd', 'GoParksCom',\n",
      "       'SiteDesc', 'Website', 'FriendsGrp', 'SurveyName', 'SurveyDate',\n",
      "       'SurveyRef', 'ModDate', 'ModUser', 'ModComm', 'OtherNames', 'Ward',\n",
      "       'Address', 'OwnerURL', 'SiteHistor', 'LSMDate', 'LSMParcels',\n",
      "       'VeriStatus', 'VeriDate', 'VeriBy', 'StatDes', 'NonStatDes',\n",
      "       'LandscDes', 'ByelawDes', 'SPA', 'SAC', 'Ramsar', 'NNR', 'SSSI', 'LNR',\n",
      "       'SINC', 'COS', 'POS', 'ConsArea', 'EnglishHer', 'GreenBelt',\n",
      "       'GreenChain', 'GreenCor', 'GreenFlag', 'LonCommon', 'LonSquare', 'MOL',\n",
      "       'POPS', 'POSGrade', 'Features', 'Licence', 'geometry'],\n",
      "      dtype='object')\n",
      "['Adventure playground', 'Agriculture', 'Allotments', 'Amenity green space', 'Canal', 'Cemetery/churchyard', 'City farm', 'Civic/market square', 'Common', 'Community garden', 'Country park', 'Disused quarry/gravel pit', 'Disused railway trackbed', 'Educational', 'Equestrian centre', 'Formal garden', 'Golf course', 'Hospital', 'Land reclamation', 'Landscaping around premises', 'Nature reserve', 'Nursery/horticulture', 'Other', 'Other hard surfaced areas', 'Other recreational', 'Park', 'Play space', 'Playing fields', 'Private woodland', 'Public woodland', 'Railway cutting', 'Railway embankment', 'Recreation ground', 'Reservoir', 'River', 'Road island/verge', 'Sewage/water works', 'Tramway', 'Vacant land', 'Village green', 'Walking/cycling route', 'Youth area']\n",
      "42\n",
      "['Adventure playground', 'Adventure playground; Allotments; Nature reserve; Park', 'Adventure playground; Land reclamation; Other', 'Adventure playground; Landscaping around premises', 'Adventure playground; Park; Play space', 'Adventure playground; Play space', 'Adventure playground; Recreation ground', 'Agriculture', 'Agriculture; Allotments', 'Agriculture; Canal; Disused quarry/gravel pit; Private woodland', 'Agriculture; Canal; Golf course; Private woodland; Railway embankment; River', 'Agriculture; Common', 'Agriculture; Common; Disused quarry/gravel pit; Park; River', 'Agriculture; Common; Educational; Park; Playing fields; River', 'Agriculture; Common; Nature reserve; Playing fields', 'Agriculture; Common; Private woodland; River', 'Agriculture; Common; Private woodland; Vacant land', 'Agriculture; Common; River', 'Agriculture; Common; Vacant land', 'Agriculture; Disused quarry/gravel pit', 'Agriculture; Disused quarry/gravel pit; Golf course; Nature reserve; Private woodland; River', 'Agriculture; Disused quarry/gravel pit; Other recreational; Vacant land', 'Agriculture; Disused quarry/gravel pit; Other; River', 'Agriculture; Educational; Reservoir', 'Agriculture; Educational; Vacant land', 'Agriculture; Equestrian centre', 'Agriculture; Equestrian centre; Land reclamation; Vacant land', 'Agriculture; Equestrian centre; Playing fields', 'Agriculture; Equestrian centre; Recreation ground; River', 'Agriculture; Formal garden', 'Agriculture; Formal garden; Other; Private woodland; Walking/cycling route', 'Agriculture; Formal garden; Private woodland', 'Agriculture; Golf course', 'Agriculture; Golf course; Other; Playing fields', 'Agriculture; Land reclamation', 'Agriculture; Landscaping around premises', 'Agriculture; Landscaping around premises; Other; Park; Village green', 'Agriculture; Nature reserve', 'Agriculture; Nature reserve; Other recreational; Private woodland; Railway embankment', 'Agriculture; Nature reserve; Other; Railway cutting', 'Agriculture; Nature reserve; Other; River', 'Agriculture; Nature reserve; Other; River; Vacant land', 'Agriculture; Nature reserve; River; Vacant land', 'Agriculture; Other', 'Agriculture; Other recreational', 'Agriculture; Other; Other recreational; Private woodland', 'Agriculture; Other; Private woodland', 'Agriculture; Other; Recreation ground', 'Agriculture; Other; River; Vacant land', 'Agriculture; Private woodland', 'Agriculture; Railway cutting', 'Agriculture; Railway cutting; Road island/verge', 'Agriculture; Recreation ground', 'Agriculture; River', 'Agriculture; River; Sewage/water works', 'Agriculture; Vacant land', 'Allotments', 'Allotments; Cemetery/churchyard; Recreation ground', 'Allotments; City farm; Playing fields', 'Allotments; Educational; Other; Park; Playing fields', 'Allotments; Nature reserve; Railway cutting', 'Allotments; Other; Railway cutting', 'Allotments; Other; Vacant land', 'Allotments; Play space', 'Allotments; Playing fields; River', 'Allotments; Railway cutting', 'Allotments; River', 'Amenity green space', 'Amenity green space; Landscaping around premises', 'Amenity green space; Play space', 'Amenity green space; Road island/verge', 'Canal', 'Canal; Common', 'Canal; Disused quarry/gravel pit', 'Canal; Disused quarry/gravel pit; Equestrian centre; Land reclamation', 'Canal; Landscaping around premises; Nature reserve; Nursery/horticulture', 'Canal; Other', 'Canal; Other recreational', 'Canal; Other; Recreation ground; Reservoir; River', 'Canal; Park', 'Canal; Playing fields', 'Cemetery/churchyard', 'Cemetery/churchyard; Civic/market square; Landscaping around premises', 'Cemetery/churchyard; Community garden; Playing fields; Recreation ground', 'Cemetery/churchyard; Golf course', 'Cemetery/churchyard; Landscaping around premises', 'Cemetery/churchyard; Park', 'Cemetery/churchyard; Play space; Recreation ground', 'Cemetery/churchyard; Playing fields; Recreation ground', 'Cemetery/churchyard; Recreation ground', 'City farm', 'City farm; Landscaping around premises', 'City farm; Private woodland', 'Civic/market square', 'Civic/market square; Other recreational; Play space', 'Common', 'Common; Disused railway trackbed; Nature reserve; Railway cutting', 'Common; Educational; Road island/verge', 'Common; Equestrian centre; Park; Private woodland', 'Common; Equestrian centre; River', 'Common; Golf course; Landscaping around premises; Nature reserve; Playing fields', 'Common; Landscaping around premises; Play space; Private woodland', 'Common; Nature reserve', 'Common; Other', 'Common; Park', 'Common; Park; Recreation ground', 'Common; Park; River', 'Common; Park; Vacant land', 'Common; Park; Walking/cycling route', 'Common; Play space', 'Common; Play space; Road island/verge', 'Common; Play space; Vacant land', 'Common; Playing fields', 'Common; Playing fields; Vacant land', 'Common; Private woodland', 'Common; Recreation ground', 'Common; Recreation ground; River', 'Common; River', 'Common; River; Road island/verge', 'Common; Road island/verge', 'Common; Vacant land', 'Common; Walking/cycling route', 'Community garden', 'Community garden; Other recreational', 'Country park', 'Disused quarry/gravel pit', 'Disused quarry/gravel pit; Nature reserve; Other; Other hard surfaced areas; Park', 'Disused quarry/gravel pit; Other recreational', 'Disused quarry/gravel pit; Other; Private woodland', 'Disused quarry/gravel pit; Private woodland; River', 'Disused railway trackbed', 'Disused railway trackbed; Landscaping around premises; Railway embankment', 'Disused railway trackbed; Nature reserve', 'Disused railway trackbed; Park', 'Disused railway trackbed; Railway cutting', 'Disused railway trackbed; Railway cutting; Railway embankment', 'Educational', 'Educational; Equestrian centre; Other', 'Educational; Equestrian centre; Playing fields', 'Educational; Formal garden; Landscaping around premises; Playing fields', 'Educational; Golf course; Landscaping around premises; Other; Park', 'Educational; Landscaping around premises', 'Educational; Landscaping around premises; Park; Playing fields', 'Educational; Nature reserve; Playing fields', 'Educational; Other recreational', 'Educational; Other; Playing fields; Private woodland; Recreation ground', 'Educational; Park', 'Educational; Play space', 'Educational; Playing fields', 'Educational; Recreation ground', 'Educational; River', 'Educational; Road island/verge', 'Educational; Vacant land', 'Equestrian centre', 'Equestrian centre; Golf course; Landscaping around premises; Vacant land', 'Equestrian centre; Landscaping around premises; Private woodland', 'Equestrian centre; Landscaping around premises; Road island/verge; Vacant land', 'Equestrian centre; Nature reserve', 'Equestrian centre; Nature reserve; Private woodland; Vacant land', 'Equestrian centre; Playing fields', 'Equestrian centre; Reservoir', 'Equestrian centre; River', 'Equestrian centre; Vacant land', 'Formal garden', 'Formal garden; Landscaping around premises', 'Formal garden; Landscaping around premises; Nature reserve; Nursery/horticulture; Other', 'Formal garden; Park', 'Formal garden; Play space', 'Golf course', 'Golf course; Other recreational; Playing fields; Road island/verge', 'Golf course; Play space', 'Golf course; Playing fields; Railway cutting', 'Golf course; Recreation ground', 'Hospital', 'Hospital; Landscaping around premises', 'Land reclamation', 'Land reclamation; Landscaping around premises', 'Land reclamation; Other', 'Land reclamation; Private woodland', 'Land reclamation; Vacant land', 'Landscaping around premises', 'Landscaping around premises; Other', 'Landscaping around premises; Other hard surfaced areas', 'Landscaping around premises; Other recreational', 'Landscaping around premises; Park', 'Landscaping around premises; Park; River', 'Landscaping around premises; Play space', 'Landscaping around premises; Playing fields', 'Landscaping around premises; Playing fields; Reservoir', 'Landscaping around premises; Private woodland', 'Landscaping around premises; Public woodland', 'Landscaping around premises; Railway cutting', 'Landscaping around premises; Road island/verge', 'Landscaping around premises; Road island/verge; Vacant land', 'Landscaping around premises; Vacant land', 'Nature reserve', 'Nature reserve; Other', 'Nature reserve; Park', 'Nature reserve; Park; Playing fields', 'Nature reserve; Park; Vacant land', 'Nature reserve; Play space', 'Nature reserve; Play space; Recreation ground', 'Nature reserve; Playing fields', 'Nature reserve; Private woodland', 'Nature reserve; Public woodland', 'Nature reserve; Railway cutting', 'Nature reserve; Railway embankment', 'Nature reserve; Recreation ground', 'Nature reserve; River', 'Nature reserve; River; Vacant land', 'Nature reserve; Vacant land', 'Nature reserve; Walking/cycling route', 'Nursery/horticulture', 'Nursery/horticulture; Other; Playing fields; Recreation ground', 'Other', 'Other hard surfaced areas', 'Other hard surfaced areas; Park', 'Other recreational', 'Other recreational; Park', 'Other recreational; Park; Play space', 'Other recreational; Park; River', 'Other recreational; Play space', 'Other recreational; Playing fields', 'Other recreational; Private woodland', 'Other recreational; Reservoir', 'Other recreational; Vacant land', 'Other; Other recreational; Road island/verge; Vacant land', 'Other; Park', 'Other; Play space; River; Vacant land', 'Other; Playing fields; Railway embankment', 'Other; Private woodland', 'Other; Railway cutting', 'Other; Walking/cycling route', 'Park', 'Park; Play space', 'Park; Play space; Recreation ground', 'Park; Playing fields', 'Park; Playing fields; Recreation ground', 'Park; Public woodland', 'Park; Railway cutting', 'Park; Railway embankment', 'Park; River', 'Park; Road island/verge', 'Park; Vacant land', 'Park; Vacant land; Walking/cycling route', 'Park; Walking/cycling route', 'Play space', 'Play space; Playing fields', 'Play space; Playing fields; Railway cutting', 'Play space; Playing fields; Youth area', 'Play space; Public woodland', 'Play space; Recreation ground', 'Play space; River', 'Playing fields', 'Playing fields; Public woodland', 'Playing fields; Recreation ground', 'Playing fields; River', 'Playing fields; Vacant land', 'Playing fields; Walking/cycling route', 'Private woodland', 'Private woodland; Recreation ground', 'Private woodland; Reservoir', 'Private woodland; River', 'Private woodland; Road island/verge', 'Private woodland; Vacant land', 'Private woodland; Walking/cycling route', 'Public woodland', 'Public woodland; Recreation ground', 'Public woodland; Road island/verge', 'Public woodland; Vacant land', 'Public woodland; Walking/cycling route', 'Railway cutting', 'Railway embankment', 'Railway embankment; Vacant land', 'Recreation ground', 'Recreation ground; River', 'Recreation ground; Road island/verge', 'Recreation ground; Vacant land', 'Reservoir', 'Reservoir; River', 'River', 'River; Road island/verge', 'River; Road island/verge; Vacant land', 'River; Vacant land', 'River; Walking/cycling route', 'Road island/verge', 'Road island/verge; Vacant land', 'Sewage/water works', 'Sewage/water works; Vacant land', 'Vacant land', 'Vacant land; Walking/cycling route', 'Village green', 'Walking/cycling route', 'Youth area']\n",
      "294\n",
      "['District Park', 'Linear Open Space', 'Local Park and Open Space', 'Metropolitan Park', 'Pocket Park', 'Pocket park', 'Regional Park', 'Small Open Space']\n"
     ]
    }
   ],
   "source": [
    "\n",
    "\n",
    "print(sorted(d[\"POSGrade\"].dropna().unique()))\n",
    "\n",
    "# Define categories to filter\n",
    "PrimaryUse_select = [\n",
    "    \"Disused quarry/gravel pit\", \"Disused railway trackbed\", \"Land reclamation\",\n",
    "    \"Other hard surfaced areas\", \"Other recreational\", \"Road island/verge\",\n",
    "    \"Vacant land\"\n",
    "]\n",
    "\n",
    "# Filter data based on the selected categories\n",
    "d_filtered = d[d[\"PrimaryUse\"].isin(PrimaryUse_select)]\n",
    "\n",
    "# # Display the filtered data\n",
    "# print(d_filtered.head())\n",
    "\n"
   ]
  },
  {
   "cell_type": "markdown",
   "metadata": {},
   "source": [
    "### Save filtered shp"
   ]
  },
  {
   "cell_type": "code",
   "execution_count": null,
   "metadata": {},
   "outputs": [],
   "source": [
    "\n",
    "output_path = \"G:/Shared drives/Wellcome Trust Project Data/1_preprocess/UrbanCoolingModel/GiGL_OpenSpace_Sites_opportunityLC.shp\"\n",
    "\n",
    "# Save filtered data as a new shapefile\n",
    "d_filtered.to_file(output_path, driver=\"ESRI Shapefile\")\n",
    "\n",
    "print(f\"Filtered shapefile saved at: {output_path}\")\n"
   ]
  },
  {
   "cell_type": "markdown",
   "metadata": {},
   "source": [
    "## Create LU scenarios "
   ]
  },
  {
   "cell_type": "code",
   "execution_count": 9,
   "metadata": {},
   "outputs": [
    {
     "name": "stdout",
     "output_type": "stream",
     "text": [
      "Updated land cover raster saved at: G:\\Shared drives\\Wellcome Trust Project Data\\1_preprocess\\UrbanCoolingModel\\ESA_WorldCover_10m_2021_update.tif\n"
     ]
    }
   ],
   "source": [
    "import rasterio\n",
    "import geopandas as gpd\n",
    "import numpy as np\n",
    "from rasterio.mask import mask\n",
    "from rasterio.features import rasterize\n",
    "\n",
    "# --- File Paths ---\n",
    "landcover_raster_path = r\"G:\\Shared drives\\Wellcome Trust Project Data\\1_preprocess\\UrbanCoolingModel\\ESA_WorldCover_10m_2021_v200_Mosaic_Mask_proj.tif\"\n",
    "filtered_shapefile_path = \"G:/Shared drives/Wellcome Trust Project Data/1_preprocess/UrbanCoolingModel/GiGL_OpenSpace_Sites_opportunityLC.shp\"\n",
    "output_raster_path = r\"G:\\Shared drives\\Wellcome Trust Project Data\\1_preprocess\\UrbanCoolingModel\\ESA_WorldCover_10m_2021_update.tif\"\n",
    "\n",
    "# --- Step 1: Load the Raster ---\n",
    "with rasterio.open(landcover_raster_path) as src:\n",
    "    landcover_data = src.read(1)  # Read the first band\n",
    "    landcover_meta = src.meta.copy()  # Copy metadata\n",
    "    landcover_crs = src.crs  # Get raster CRS\n",
    "\n",
    "# --- Step 2: Load the Shapefile ---\n",
    "d_filtered = gpd.read_file(filtered_shapefile_path)\n",
    "\n",
    "# --- Step 3: Reproject Shapefile if Needed ---\n",
    "if d_filtered.crs != landcover_crs:\n",
    "    d_filtered = d_filtered.to_crs(landcover_crs)\n",
    "\n",
    "# --- Step 4: Rasterize the Shapefile ---\n",
    "# Convert geometry into rasterized mask\n",
    "shape_mask = rasterize(\n",
    "    [(geom, 1) for geom in d_filtered.geometry],  # Assign value 1 for overlapping areas\n",
    "    out_shape=landcover_data.shape,\n",
    "    transform=landcover_meta[\"transform\"],\n",
    "    fill=0,  # Default value for non-overlapping areas\n",
    "    dtype=np.uint8\n",
    ")\n",
    "\n",
    "# --- Step 5: Apply the Mask to Update Land Cover Values ---\n",
    "tree_cover_code = 1  # ESA WorldCover Code for \"Tree cover\"\n",
    "landcover_data[shape_mask == 1] = tree_cover_code  # Change only where shape_mask == 1\n",
    "\n",
    "# --- Step 6: Save the Updated Raster ---\n",
    "landcover_meta.update(dtype=rasterio.uint8, compress=\"lzw\")  # Ensure correct datatype\n",
    "\n",
    "with rasterio.open(output_raster_path, \"w\", **landcover_meta) as dst:\n",
    "    dst.write(landcover_data.astype(rasterio.uint8), 1)\n",
    "\n",
    "print(f\"Updated land cover raster saved at: {output_raster_path}\")\n"
   ]
  }
 ],
 "metadata": {
  "kernelspec": {
   "display_name": "base",
   "language": "python",
   "name": "python3"
  },
  "language_info": {
   "codemirror_mode": {
    "name": "ipython",
    "version": 3
   },
   "file_extension": ".py",
   "mimetype": "text/x-python",
   "name": "python",
   "nbconvert_exporter": "python",
   "pygments_lexer": "ipython3",
   "version": "3.11.5"
  }
 },
 "nbformat": 4,
 "nbformat_minor": 2
}
